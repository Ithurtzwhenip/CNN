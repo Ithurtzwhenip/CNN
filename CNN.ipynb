{
  "nbformat": 4,
  "nbformat_minor": 0,
  "metadata": {
    "colab": {
      "provenance": [],
      "mount_file_id": "1Ew3R-oW6K69DnwS9swJBHiAZTZONJCjS",
      "authorship_tag": "ABX9TyPiDZ08kZR3Z9MH2RiBUNtw",
      "include_colab_link": true
    },
    "kernelspec": {
      "name": "python3",
      "display_name": "Python 3"
    },
    "language_info": {
      "name": "python"
    }
  },
  "cells": [
    {
      "cell_type": "markdown",
      "metadata": {
        "id": "view-in-github",
        "colab_type": "text"
      },
      "source": [
        "<a href=\"https://colab.research.google.com/github/Ithurtzwhenip/CNN/blob/main/CNN.ipynb\" target=\"_parent\"><img src=\"https://colab.research.google.com/assets/colab-badge.svg\" alt=\"Open In Colab\"/></a>"
      ]
    },
    {
      "cell_type": "code",
      "source": [
        "#Importing the libraries\n",
        "\n",
        "from keras.models import Sequential\n",
        "from keras.layers import Convolution2D\n",
        "from keras.layers import MaxPooling2D\n",
        "from keras.layers import Flatten\n",
        "from keras.layers import Dense"
      ],
      "metadata": {
        "id": "CwOSVeUxSqGm"
      },
      "execution_count": null,
      "outputs": []
    },
    {
      "cell_type": "code",
      "source": [
        "#Initialising the CNN\n",
        "\n",
        "classifier = Sequential()"
      ],
      "metadata": {
        "id": "pcKKvOHDVEBP"
      },
      "execution_count": null,
      "outputs": []
    },
    {
      "cell_type": "code",
      "source": [
        "#Convolution\n",
        "\n",
        "classifier.add(Convolution2D(32, 3, 3, input_shape =(64,64,3), activation='relu'))\n"
      ],
      "metadata": {
        "id": "8wl6FrqMVomn"
      },
      "execution_count": null,
      "outputs": []
    },
    {
      "cell_type": "code",
      "source": [
        "#Pooling\n",
        "\n",
        "classifier.add(MaxPooling2D(pool_size = (2,2)))"
      ],
      "metadata": {
        "id": "182n6o2qkAYJ"
      },
      "execution_count": null,
      "outputs": []
    },
    {
      "cell_type": "code",
      "source": [
        "#Adding a second convolutional layer\n",
        "classifier.add(Convolution2D(32, 3, 3, activation='relu'))\n",
        "classifier.add(MaxPooling2D(pool_size = (2,2)))"
      ],
      "metadata": {
        "id": "tL8l9IfHkJHg"
      },
      "execution_count": null,
      "outputs": []
    },
    {
      "cell_type": "code",
      "source": [
        "#Flattening\n",
        "\n",
        "classifier.add(Flatten())"
      ],
      "metadata": {
        "id": "V2CPkacdRAA9"
      },
      "execution_count": null,
      "outputs": []
    },
    {
      "cell_type": "code",
      "source": [
        "#Full connection\n",
        "\n",
        "classifier.add(Dense(units=128, activation = 'relu'))\n",
        "classifier.add(Dense(units=1, activation = 'sigmoid'))"
      ],
      "metadata": {
        "id": "7URbp7zMRlri"
      },
      "execution_count": null,
      "outputs": []
    },
    {
      "cell_type": "code",
      "source": [
        "#Compiling the CNN\n",
        "\n",
        "classifier.compile(optimizer='adam', loss= 'binary_crossentropy', metrics = ['accuracy'])"
      ],
      "metadata": {
        "id": "AkJNfamyUXKu"
      },
      "execution_count": null,
      "outputs": []
    },
    {
      "cell_type": "code",
      "source": [
        "import tensorflow as tf\n",
        "from keras.preprocessing.image import ImageDataGenerator"
      ],
      "metadata": {
        "id": "ZCQT5DT4YS4R"
      },
      "execution_count": null,
      "outputs": []
    },
    {
      "cell_type": "code",
      "source": [
        "#Preparing image augmentation\n",
        "train_datagen = ImageDataGenerator(rescale = 1./255,\n",
        "                                   shear_range = 0.2,\n",
        "                                   zoom_range = 0.2,\n",
        "                                   horizontal_flip = True)\n",
        "\n",
        "test_datagen = ImageDataGenerator(rescale = 1./255)\n",
        "\n",
        "#Preprocessing\n",
        "\n",
        "training_set = train_datagen.flow_from_directory('/content/drive/MyDrive/Colab Notebooks/Deep Learning/Supervised/CNN build/dataset/training_set',\n",
        "                                                 target_size = (64, 64),\n",
        "                                                 batch_size = 32,\n",
        "                                                 class_mode = 'binary')\n",
        "\n",
        "test_set = test_datagen.flow_from_directory('/content/drive/MyDrive/Colab Notebooks/Deep Learning/Supervised/CNN build/dataset/test_set',\n",
        "                                            target_size = (64, 64),\n",
        "                                            batch_size = 32,\n",
        "                                            class_mode = 'binary')\n",
        "\n"
      ],
      "metadata": {
        "colab": {
          "base_uri": "https://localhost:8080/"
        },
        "id": "MPQc6JfEV793",
        "outputId": "163481f6-f1d3-4772-e785-ba3316de2ec1"
      },
      "execution_count": null,
      "outputs": [
        {
          "output_type": "stream",
          "name": "stdout",
          "text": [
            "Found 8000 images belonging to 2 classes.\n",
            "Found 2000 images belonging to 2 classes.\n"
          ]
        }
      ]
    },
    {
      "cell_type": "code",
      "source": [
        "# Fitting the CNN\n",
        "classifier.fit_generator(training_set,\n",
        "                         steps_per_epoch=len(training_set),\n",
        "                         epochs=25,\n",
        "                         validation_data=test_set,\n",
        "                         validation_steps=len(test_set))\n"
      ],
      "metadata": {
        "id": "QJpVRHLoVT1r",
        "colab": {
          "base_uri": "https://localhost:8080/"
        },
        "outputId": "77f65113-5577-4989-e105-8946164ab66b"
      },
      "execution_count": null,
      "outputs": [
        {
          "output_type": "stream",
          "name": "stderr",
          "text": [
            "<ipython-input-13-6bdf522de184>:2: UserWarning: `Model.fit_generator` is deprecated and will be removed in a future version. Please use `Model.fit`, which supports generators.\n",
            "  classifier.fit_generator(training_set,\n"
          ]
        },
        {
          "output_type": "stream",
          "name": "stdout",
          "text": [
            "Epoch 1/25\n",
            "  3/250 [..............................] - ETA: 20:43 - loss: 0.6824 - accuracy: 0.5833"
          ]
        }
      ]
    },
    {
      "cell_type": "code",
      "source": [
        "#Making Predictions\n",
        "\n",
        "import numpy as np\n",
        "from keras.preprocessing import image\n",
        "\n",
        "test_image = image.load_img('/content/drive/MyDrive/Colab Notebooks/Deep Learning/Supervised/CNN build/dataset/single_prediction/cat_or_dog_1.jpg',target_size=(64,64))\n",
        "test_image=image.img_to_array(test_image)\n",
        "test_image=np.expand_dims(test_image,axis=0) #for extra dim while predicting\n",
        "result=classifier.predict(test_image)"
      ],
      "metadata": {
        "id": "8kXrRZs3vgUq"
      },
      "execution_count": null,
      "outputs": []
    },
    {
      "cell_type": "code",
      "source": [
        "training_set.class_indices"
      ],
      "metadata": {
        "colab": {
          "base_uri": "https://localhost:8080/"
        },
        "id": "R0pxUMNqwA_e",
        "outputId": "0e27f5ab-523b-4d21-d6a4-67fc02f45e14"
      },
      "execution_count": null,
      "outputs": [
        {
          "output_type": "execute_result",
          "data": {
            "text/plain": [
              "{'cats': 0, 'dogs': 1}"
            ]
          },
          "metadata": {},
          "execution_count": 24
        }
      ]
    },
    {
      "cell_type": "code",
      "source": [
        "if result[0][0] ==1:\n",
        "  prediction = 'dog'\n",
        "else:\n",
        "  prediction = 'cat'\n",
        "\n"
      ],
      "metadata": {
        "id": "uIel68Q9wwie"
      },
      "execution_count": null,
      "outputs": []
    }
  ]
}